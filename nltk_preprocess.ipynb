{
  "nbformat": 4,
  "nbformat_minor": 0,
  "metadata": {
    "colab": {
      "name": "nltk_preprocess.ipynb",
      "provenance": [],
      "collapsed_sections": []
    },
    "kernelspec": {
      "display_name": "Python [default]",
      "language": "python",
      "name": "python3"
    }
  },
  "cells": [
    {
      "metadata": {
        "id": "3mFK9wUoebxg"
      },
      "cell_type": "markdown",
      "source": [
        "# Example using nltk for preprocessing text"
      ]
    },
    {
      "metadata": {
        "id": "Sgs723FwLGhz"
      },
      "cell_type": "markdown",
      "source": [
        "**NOTE:**\n",
        "You will be prompted to upload a text file from your Google Drive.\n",
        "\n",
        "If you would like to use the file that was used in this example, copy it from this link to your Google Drive:\n",
        "\n",
        "https://github.com/gal-a/blog/blob/master/docs/notebooks/nlp/data/quotes.txt"
      ]
    },
    {
      "metadata": {
        "id": "-44aMwUcQZxm",
        "colab": {
          "base_uri": "https://localhost:8080/",
          "height": 194
        },
        "outputId": "607b5594-f17c-480b-b135-698a10250bd2"
      },
      "cell_type": "code",
      "source": [
        "# Setup\n",
        "!pip install -q wordcloud\n",
        "import wordcloud\n",
        "\n",
        "import nltk\n",
        "nltk.download('stopwords')\n",
        "nltk.download('wordnet')\n",
        "nltk.download('punkt')\n",
        "nltk.download('averaged_perceptron_tagger') \n",
        "\n",
        "import pandas as pd\n",
        "import matplotlib.pyplot as plt\n",
        "import io\n",
        "import unicodedata\n",
        "import numpy as np\n",
        "import re\n",
        "import string"
      ],
      "execution_count": null,
      "outputs": [
        {
          "output_type": "stream",
          "text": [
            "[nltk_data] Downloading package stopwords to /content/nltk_data...\n",
            "[nltk_data]   Package stopwords is already up-to-date!\n",
            "[nltk_data] Downloading package wordnet to /content/nltk_data...\n",
            "[nltk_data]   Package wordnet is already up-to-date!\n",
            "[nltk_data] Downloading package punkt to /content/nltk_data...\n",
            "[nltk_data]   Package punkt is already up-to-date!\n",
            "[nltk_data] Downloading package averaged_perceptron_tagger to\n",
            "[nltk_data]     /content/nltk_data...\n",
            "[nltk_data]   Package averaged_perceptron_tagger is already up-to-\n",
            "[nltk_data]       date!\n"
          ],
          "name": "stdout"
        }
      ]
    },
    {
      "metadata": {
        "id": "0JzUMH4jdXm7"
      },
      "cell_type": "code",
      "source": [
        "# Constants\n",
        "# POS (Parts Of Speech) for: nouns, adjectives, verbs and adverbs\n",
        "DI_POS_TYPES = {'NN':'n', 'JJ':'a', 'VB':'v', 'RB':'r'} \n",
        "POS_TYPES = list(DI_POS_TYPES.keys())\n",
        "\n",
        "# Constraints on tokens\n",
        "MIN_STR_LEN = 3\n",
        "RE_VALID = '[a-zA-Z]'"
      ],
      "execution_count": null,
      "outputs": []
    },
    {
      "metadata": {
        "id": "RVgxtPLrlIIP"
      },
      "cell_type": "markdown",
      "source": [
        "## Load the corpus file from Google Drive"
      ]
    },
    {
      "metadata": {
        "id": "twRJodduiumC",
        "colab": {
          "resources": {
            "http://localhost:8080/nbextensions/google.colab/files.js": {
              "data": "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",
              "ok": true,
              "headers": [
                [
                  "content-type",
                  "application/javascript"
                ]
              ],
              "status": 200,
              "status_text": ""
            }
          },
          "base_uri": "https://localhost:8080/",
          "height": 357
        },
        "outputId": "66f7e4e5-7ac0-4513-938c-4cfeff4bf7de"
      },
      "cell_type": "code",
      "source": [
        "# Upload from google drive\n",
        "from google.colab import files\n",
        "uploaded = files.upload()\n",
        "print(\"len(uploaded.keys():\", len(uploaded.keys()))\n",
        "\n",
        "for fn in uploaded.keys():\n",
        "  print('User uploaded file \"{name}\" with length {length} bytes'.format(name=fn, length=len(uploaded[fn])))\n",
        "\n",
        "# Get list of quotes\n",
        "df_quotes = pd.read_csv(io.StringIO(uploaded['quotes.txt'].decode('utf-8')), sep='\\t')\n",
        "  \n",
        "# Display\n",
        "print(\"df_quotes:\")\n",
        "print(df_quotes.head().to_string())\n",
        "print(df_quotes.describe())\n",
        "\n",
        "# Convert quotes to list\n",
        "li_quotes = df_quotes['Quote'].tolist()\n",
        "print()\n",
        "print(\"len(li_quotes):\", len(li_quotes))"
      ],
      "execution_count": null,
      "outputs": [
        {
          "output_type": "display_data",
          "data": {
            "text/html": [
              "\n",
              "     <input type=\"file\" id=\"files-13ba5fd0-66e6-420b-901d-4304672f7dcb\" name=\"files[]\" multiple disabled />\n",
              "     <output id=\"result-13ba5fd0-66e6-420b-901d-4304672f7dcb\">\n",
              "      Upload widget is only available when the cell has been executed in the\n",
              "      current browser session. Please rerun this cell to enable.\n",
              "      </output>\n",
              "      <script src=\"/nbextensions/google.colab/files.js\"></script> "
            ],
            "text/plain": [
              "<IPython.core.display.HTML object>"
            ]
          },
          "metadata": {
            "tags": []
          }
        },
        {
          "output_type": "stream",
          "text": [
            "Saving quotes.txt to quotes (3).txt\n",
            "len(uploaded.keys(): 1\n",
            "User uploaded file \"quotes.txt\" with length 6982 bytes\n",
            "df_quotes:\n",
            "            Author                                              Quote\n",
            "0  Agatha Christie  I like living. I have sometimes been wildly, d...\n",
            "1  Agatha Christie  The impossible could not have happened, theref...\n",
            "2  Agatha Christie  Poirot, I said. I have been thinking. An admir...\n",
            "3  Agatha Christie  Instinct is a marvelous thing. It can neither ...\n",
            "4  Agatha Christie  The best time for planning a book is while you...\n",
            "                    Author                                              Quote\n",
            "count                   46                                                 46\n",
            "unique                   5                                                 46\n",
            "top     Arthur Conan Doyle  The truth, however ugly in itself, is always c...\n",
            "freq                    14                                                  1\n",
            "\n",
            "len(li_quotes): 46\n"
          ],
          "name": "stdout"
        }
      ]
    },
    {
      "metadata": {
        "id": "z0IDuv36ebxq"
      },
      "cell_type": "markdown",
      "source": [
        "## Tokenize sentences and words, remove stopwords, use stemmer & lemmatizer\n",
        "\n",
        "First, a note on the difference between Stemming vs Lemmatization:\n",
        "\n",
        "* Stemming: Trying to shorten a word with simple regex rules\n",
        "\n",
        "* Lemmatization: Trying to find the root word with linguistics rules (with the use of regex rules)"
      ]
    },
    {
      "metadata": {
        "id": "AdFlT_KXebxs",
        "colab": {
          "base_uri": "https://localhost:8080/",
          "height": 321
        },
        "outputId": "7508d6d1-4c9c-4c0b-e2a3-0c2c772466f2"
      },
      "cell_type": "code",
      "source": [
        "# Get stopwords, stemmer and lemmatizer\n",
        "stopwords = nltk.corpus.stopwords.words('english')\n",
        "stemmer = nltk.stem.PorterStemmer()\n",
        "lemmatizer = nltk.stem.WordNetLemmatizer()\n",
        "\n",
        "# Remove accents function\n",
        "def remove_accents(data):\n",
        "    return ''.join(x for x in unicodedata.normalize('NFKD', data) if x in string.ascii_letters or x == \" \")\n",
        "\n",
        "# Process all quotes\n",
        "li_tokens = []\n",
        "li_token_lists = []\n",
        "li_lem_strings = []\n",
        "\n",
        "for i,text in enumerate(li_quotes):\n",
        "    # Tokenize by sentence, then by lowercase word\n",
        "    tokens = [word.lower() for sent in nltk.sent_tokenize(text) for word in nltk.word_tokenize(sent)]\n",
        "\n",
        "    # Process all tokens per quote\n",
        "    li_tokens_quote = []\n",
        "    li_tokens_quote_lem = []\n",
        "    for token in tokens:\n",
        "        # Remove accents\n",
        "        t = remove_accents(token)\n",
        "\n",
        "        # Remove punctuation\n",
        "        t = str(t).translate(string.punctuation)\n",
        "        li_tokens_quote.append(t)\n",
        "        \n",
        "        # Add token that represents \"no lemmatization match\"\n",
        "        li_tokens_quote_lem.append(\"-\") # this token will be removed if a lemmatization match is found below\n",
        "\n",
        "        # Process each token\n",
        "        if t not in stopwords:\n",
        "            if re.search(RE_VALID, t):\n",
        "                if len(t) >= MIN_STR_LEN:\n",
        "                    # Note that the POS (Part Of Speech) is necessary as input to the lemmatizer \n",
        "                    # (otherwise it assumes the word is a noun)\n",
        "                    pos = nltk.pos_tag([t])[0][1][:2]\n",
        "                    pos2 = 'n'  # set default to noun\n",
        "                    if pos in DI_POS_TYPES:\n",
        "                      pos2 = DI_POS_TYPES[pos]\n",
        "                    \n",
        "                    stem = stemmer.stem(t)\n",
        "                    lem = lemmatizer.lemmatize(t, pos=pos2)  # lemmatize with the correct POS\n",
        "                    \n",
        "                    if pos in POS_TYPES:\n",
        "                        li_tokens.append((t, stem, lem, pos))\n",
        "\n",
        "                        # Remove the \"-\" token and append the lemmatization match\n",
        "                        li_tokens_quote_lem = li_tokens_quote_lem[:-1] \n",
        "                        li_tokens_quote_lem.append(lem)\n",
        "\n",
        "    # Build list of token lists from lemmatized tokens\n",
        "    li_token_lists.append(li_tokens_quote)\n",
        "    \n",
        "    # Build list of strings from lemmatized tokens\n",
        "    str_li_tokens_quote_lem = ' '.join(li_tokens_quote_lem)\n",
        "    li_lem_strings.append(str_li_tokens_quote_lem)\n",
        "    \n",
        "# Build resulting dataframes from lists\n",
        "df_token_lists = pd.DataFrame(li_token_lists)\n",
        "\n",
        "print(\"df_token_lists.head(5):\")\n",
        "print(df_token_lists.head(5).to_string())\n",
        "\n",
        "# Replace None with empty string\n",
        "for c in df_token_lists:\n",
        "    if str(df_token_lists[c].dtype) in ('object', 'string_', 'unicode_'):\n",
        "        df_token_lists[c].fillna(value='', inplace=True)\n",
        "\n",
        "df_lem_strings = pd.DataFrame(li_lem_strings, columns=['lem quote'])\n",
        "\n",
        "print()\n",
        "print(\"\")\n",
        "print(\"df_lem_strings.head():\")\n",
        "print(df_lem_strings.head().to_string())"
      ],
      "execution_count": null,
      "outputs": [
        {
          "output_type": "stream",
          "text": [
            "df_token_lists.head(5):\n",
            "        0           1       2          3         4         5          6          7         8           9             10         11        12         13      14      15           16      17    18    19       20    21    22    23     24    25     26         27    28    29    30    31     32    33    34     35     36    37    38    39    40    41    42    43    44    45    46    47    48    49    50    51    52    53    54    55    56    57    58    59    60    61    62    63    64    65    66    67    68    69    70    71    72    73    74    75    76    77    78    79    80    81    82    83    84    85    86    87    88    89    90    91    92    93    94    95    96    97    98    99    100   101   102   103   104   105   106   107   108   109   110   111   112   113   114\n",
            "0         i        like  living                    i      have  sometimes       been    wildly              despairingly              acutely  miserable          racked         with  sorrow         but  through    it   all     i  still  know  quite  certainly  that  just    to    be  alive    is     a  grand  thing        None  None  None  None  None  None  None  None  None  None  None  None  None  None  None  None  None  None  None  None  None  None  None  None  None  None  None  None  None  None  None  None  None  None  None  None  None  None  None  None  None  None  None  None  None  None  None  None  None  None  None  None  None  None  None  None  None  None  None  None  None  None  None  None  None  None  None  None  None  None  None  None  None  None  None  None  None\n",
            "1       the  impossible   could        not      have  happened             therefore       the  impossible          must         be  possible         in   spite      of  appearances          None  None     None  None  None  None   None  None   None       None  None  None  None  None   None  None  None   None   None  None  None  None  None  None  None  None  None  None  None  None  None  None  None  None  None  None  None  None  None  None  None  None  None  None  None  None  None  None  None  None  None  None  None  None  None  None  None  None  None  None  None  None  None  None  None  None  None  None  None  None  None  None  None  None  None  None  None  None  None  None  None  None  None  None  None  None  None  None  None  None  None  None  None  None  None  None  None\n",
            "2    poirot                   i       said                   i       have       been  thinking                        an  admirable  exercise         my  friend             continue      it        None     None  None  None  None   None  None   None       None  None  None  None  None   None  None  None   None   None  None  None  None  None  None  None  None  None  None  None  None  None  None  None  None  None  None  None  None  None  None  None  None  None  None  None  None  None  None  None  None  None  None  None  None  None  None  None  None  None  None  None  None  None  None  None  None  None  None  None  None  None  None  None  None  None  None  None  None  None  None  None  None  None  None  None  None  None  None  None  None  None  None  None  None  None  None  None\n",
            "3  instinct          is       a  marvelous     thing                   it        can   neither          be     explained        nor   ignored               None    None         None    None  None  None     None  None  None  None   None  None   None       None  None  None  None  None   None  None  None   None   None  None  None  None  None  None  None  None  None  None  None  None  None  None  None  None  None  None  None  None  None  None  None  None  None  None  None  None  None  None  None  None  None  None  None  None  None  None  None  None  None  None  None  None  None  None  None  None  None  None  None  None  None  None  None  None  None  None  None  None  None  None  None  None  None  None  None  None  None  None  None  None  None  None  None  None  None  None  None\n",
            "4       the        best    time        for  planning         a       book         is     while         you            re      doing       the     dishes            None         None    None  None  None     None  None  None  None   None  None   None       None  None  None  None  None   None  None  None   None   None  None  None  None  None  None  None  None  None  None  None  None  None  None  None  None  None  None  None  None  None  None  None  None  None  None  None  None  None  None  None  None  None  None  None  None  None  None  None  None  None  None  None  None  None  None  None  None  None  None  None  None  None  None  None  None  None  None  None  None  None  None  None  None  None  None  None  None  None  None  None  None  None  None  None  None  None  None  None\n",
            "\n",
            "\n",
            "df_lem_strings.head():\n",
            "                                           lem quote\n",
            "0  - - living - - - sometimes - wildly - despairi...\n",
            "1  - impossible - - - happen - therefore - imposs...\n",
            "2  poirot - - say - - - - think - - admirable exe...\n",
            "3  instinct - - marvelous thing - - - - - explain...\n",
            "4   - best time - planning - book - - - - - - dish -\n"
          ],
          "name": "stdout"
        }
      ]
    },
    {
      "metadata": {
        "id": "Zlwrxzj4ebx4"
      },
      "cell_type": "markdown",
      "source": [
        "## Process results, find the most popular lemmatized words and group results by Part of Speech (POS)"
      ]
    },
    {
      "metadata": {
        "id": "6CqM0UVkebx5",
        "colab": {
          "base_uri": "https://localhost:8080/",
          "height": 265
        },
        "outputId": "04432808-02f4-4dfb-c1c5-b3504c61e806"
      },
      "cell_type": "code",
      "source": [
        "# Add counts\n",
        "print(\"Group by lemmatized words, add count and sort:\")\n",
        "df_all_words = pd.DataFrame(li_tokens, columns=['token', 'stem', 'lem', 'pos'])\n",
        "df_all_words['counts'] = df_all_words.groupby(['lem'])['lem'].transform('count')\n",
        "df_all_words = df_all_words.sort_values(by=['counts', 'lem'], ascending=[False, True]).reset_index()\n",
        "\n",
        "print(\"Get just the first row in each lemmatized group\")\n",
        "df_words = df_all_words.groupby('lem').first().sort_values(by='counts', ascending=False).reset_index()\n",
        "print(\"df_words.head(10):\")\n",
        "print(df_words.head(10))"
      ],
      "execution_count": null,
      "outputs": [
        {
          "output_type": "stream",
          "text": [
            "Group by lemmatized words, add count and sort:\n",
            "Get just the first row in each lemmatized group\n",
            "df_words.head(10):\n",
            "         lem  index      token    stem pos  counts\n",
            "0     always     50     always   alway  RB      10\n",
            "1    nothing    116    nothing    noth  NN       6\n",
            "2       life     54       life    life  NN       6\n",
            "3        man     74        man     man  NN       5\n",
            "4       give     39       gave    gave  VB       5\n",
            "5       fact    106       fact    fact  NN       5\n",
            "6      world    121      world   world  NN       5\n",
            "7  happiness    119  happiness   happi  NN       4\n",
            "8       work    297       work    work  NN       4\n",
            "9     theory    101     theory  theori  NN       4\n"
          ],
          "name": "stdout"
        }
      ]
    },
    {
      "metadata": {
        "id": "MV1LUFHZW_fp"
      },
      "cell_type": "markdown",
      "source": [
        "## Top 10 words per Part Of Speech (POS)"
      ]
    },
    {
      "metadata": {
        "id": "-Ok5CPdqW_qW",
        "colab": {
          "base_uri": "https://localhost:8080/",
          "height": 941
        },
        "outputId": "eebafde6-2a10-496b-eeab-840ed9d856be"
      },
      "cell_type": "code",
      "source": [
        "df_words = df_words[['lem', 'pos', 'counts']].head(200)\n",
        "for v in POS_TYPES:\n",
        "    df_pos = df_words[df_words['pos'] == v]\n",
        "    print()\n",
        "    print(\"POS_TYPE:\", v)\n",
        "    print(df_pos.head(10).to_string())"
      ],
      "execution_count": null,
      "outputs": [
        {
          "output_type": "stream",
          "text": [
            "\n",
            "POS_TYPE: NN\n",
            "          lem pos  counts\n",
            "1     nothing  NN       6\n",
            "2        life  NN       6\n",
            "3         man  NN       5\n",
            "5        fact  NN       5\n",
            "6       world  NN       5\n",
            "7   happiness  NN       4\n",
            "8        work  NN       4\n",
            "9      theory  NN       4\n",
            "10      woman  NN       4\n",
            "17     holmes  NN       3\n",
            "\n",
            "POS_TYPE: JJ\n",
            "              lem pos  counts\n",
            "11     impossible  JJ       4\n",
            "15        certain  JJ       3\n",
            "18        curious  JJ       3\n",
            "34           nice  JJ       2\n",
            "43         little  JJ       2\n",
            "48           good  JJ       2\n",
            "61     improbable  JJ       2\n",
            "62           best  JJ       2\n",
            "72  philosophical  JJ       1\n",
            "81       possible  JJ       1\n",
            "\n",
            "POS_TYPE: VB\n",
            "          lem pos  counts\n",
            "4        give  VB       5\n",
            "12        say  VB       4\n",
            "13       come  VB       4\n",
            "22        see  VB       3\n",
            "23       make  VB       3\n",
            "26      think  VB       3\n",
            "29  eliminate  VB       2\n",
            "39       wish  VB       2\n",
            "52       lose  VB       2\n",
            "59       know  VB       2\n",
            "\n",
            "POS_TYPE: RB\n",
            "              lem pos  counts\n",
            "0          always  RB      10\n",
            "14          never  RB       3\n",
            "16          still  RB       3\n",
            "27        however  RB       3\n",
            "51         really  RB       2\n",
            "56          quite  RB       2\n",
            "83   particularly  RB       1\n",
            "95           mere  RB       1\n",
            "100         often  RB       1\n",
            "119     therefore  RB       1\n"
          ],
          "name": "stdout"
        }
      ]
    },
    {
      "metadata": {
        "id": "kwbJBtx0qUSp"
      },
      "cell_type": "markdown",
      "source": [
        "## Sorted frequency plot for all words"
      ]
    },
    {
      "metadata": {
        "id": "SA-CfJ6fu_yP",
        "colab": {
          "base_uri": "https://localhost:8080/",
          "height": 436
        },
        "outputId": "09f199dd-a59a-4657-fc0c-fecb1f953636"
      },
      "cell_type": "code",
      "source": [
        "li_token_lists_flat = [y for x in li_token_lists for y in x]  # flatten the list of token lists to a single list\n",
        "print(\"li_token_lists_flat[:10]:\", li_token_lists_flat[:10])\n",
        "\n",
        "di_freq = nltk.FreqDist(li_token_lists_flat)\n",
        "del di_freq['']\n",
        "li_freq_sorted = sorted(di_freq.items(), key=lambda x: x[1], reverse=True)  # sorted list\n",
        "print(li_freq_sorted)\n",
        "    \n",
        "di_freq.plot(30, cumulative=False)"
      ],
      "execution_count": null,
      "outputs": [
        {
          "output_type": "stream",
          "text": [
            "li_token_lists_flat[:10]: ['i', 'like', 'living', '', 'i', 'have', 'sometimes', 'been', 'wildly', '']\n",
            "[('the', 51), ('is', 36), ('to', 33), ('a', 27), ('i', 25), ('and', 25), ('it', 23), ('in', 20), ('that', 19), ('be', 18), ('of', 18), ('you', 17), ('but', 14), ('have', 13), ('not', 12), ('he', 12), ('one', 11), ('all', 10), ('always', 10), ('there', 10), ('for', 9), ('will', 9), ('me', 9), ('when', 8), ('they', 8), ('like', 7), ('with', 7), ('must', 7), ('my', 7), ('do', 7), ('was', 7), ('we', 7), ('what', 7), ('life', 6), ('if', 6), ('nothing', 6), ('his', 6), ('most', 5), ('are', 5), ('s', 5), ('man', 5), ('has', 5), ('world', 5), ('am', 5), ('would', 5), ('impossible', 4), ('said', 4), ('can', 4), ('give', 4), ('nt', 4), ('who', 4), ('happiness', 4), ('only', 4), ('more', 4), ('this', 4), ('any', 4), ('or', 4), ('work', 4), ('still', 3), ('an', 3), ('certain', 3), ('truth', 3), ('however', 3), ('curious', 3), ('them', 3), ('fit', 3), ('facts', 3), ('never', 3), ('felt', 3), ('may', 3), ('on', 3), ('himself', 3), ('own', 3), ('come', 3), ('which', 3), ('him', 3), ('sherlock', 3), ('holmes', 3), ('woman', 3), ('living', 2), ('been', 2), ('know', 2), ('quite', 2), ('just', 2), ('thing', 2), ('friend', 2), ('neither', 2), ('nor', 2), ('ignored', 2), ('best', 2), ('time', 2), ('doing', 2), ('too', 2), ('your', 2), ('imagination', 2), ('good', 2), ('really', 2), ('nice', 2), ('no', 2), ('little', 2), ('love', 2), ('ca', 2), ('help', 2), ('those', 2), ('lose', 2), ('their', 2), ('theory', 2), ('into', 2), ('fact', 2), ('another', 2), ('these', 2), ('storm', 2), ('makes', 2), ('think', 2), ('by', 2), ('order', 2), ('person', 2), ('artist', 2), ('myself', 2), ('fine', 2), ('tea', 2), ('than', 2), ('see', 2), ('why', 2), ('now', 2), ('eliminated', 2), ('then', 2), ('whatever', 2), ('remains', 2), ('improbable', 2), ('suit', 2), ('theories', 2), ('perfect', 2), ('watson', 2), ('at', 2), ('mind', 2), ('dull', 2), ('m', 2), ('incident', 2), ('dog', 2), ('nighttime', 2), ('she', 2), ('her', 2), ('irene', 2), ('adler', 2), ('sometimes', 1), ('wildly', 1), ('despairingly', 1), ('acutely', 1), ('miserable', 1), ('racked', 1), ('sorrow', 1), ('through', 1), ('certainly', 1), ('alive', 1), ('grand', 1), ('could', 1), ('happened', 1), ('therefore', 1), ('possible', 1), ('spite', 1), ('appearances', 1), ('poirot', 1), ('thinking', 1), ('admirable', 1), ('exercise', 1), ('continue', 1), ('instinct', 1), ('marvelous', 1), ('explained', 1), ('planning', 1), ('book', 1), ('while', 1), ('re', 1), ('dishes', 1), ('gave', 1), ('much', 1), ('rein', 1), ('servant', 1), ('bad', 1), ('master', 1), ('simplest', 1), ('explanation', 1), ('likely', 1), ('hard', 1), ('men', 1), ('goodlooking', 1), ('women', 1), ('advice', 1), ('reason', 1), ('ugly', 1), ('itself', 1), ('beautiful', 1), ('seekers', 1), ('after', 1), ('making', 1), ('up', 1), ('anybody', 1), ('cordial', 1), ('gallant', 1), ('full', 1), ('attentions', 1), ('altogether', 1), ('charming', 1), ('looking', 1), ('sheep', 1), ('quiet', 1), ('people', 1), ('tempers', 1), ('vengeance', 1), ('tried', 1), ('clever', 1), ('undoing', 1), ('conceive', 1), ('everything', 1), ('throw', 1), ('aside', 1), ('significant', 1), ('blessed', 1), ('expects', 1), ('shall', 1), ('disappointed', 1), ('misery', 1), ('comparison', 1), ('state', 1), ('deepest', 1), ('grief', 1), ('able', 1), ('experience', 1), ('supreme', 1), ('die', 1), ('morrel', 1), ('appreciate', 1), ('enjoyments', 1), ('human', 1), ('wisdom', 1), ('contained', 1), ('two', 1), ('words', 1), ('wait', 1), ('hope', 1), ('fear', 1), ('quarrels', 1), ('seek', 1), ('hazardous', 1), ('adventures', 1), ('moral', 1), ('wounds', 1), ('peculiarity', 1), ('hidden', 1), ('close', 1), ('painful', 1), ('ready', 1), ('bleed', 1), ('touched', 1), ('remain', 1), ('fresh', 1), ('open', 1), ('heart', 1), ('young', 1), ('bask', 1), ('sunlight', 1), ('moment', 1), ('shattered', 1), ('rocks', 1), ('next', 1), ('comes', 1), ('united', 1), ('stand', 1), ('divided', 1), ('fall', 1), ('meant', 1), ('attain', 1), ('so', 1), ('easily', 1), ('palaces', 1), ('fairy', 1), ('tales', 1), ('whose', 1), ('gates', 1), ('guarded', 1), ('dragons', 1), ('fight', 1), ('conquer', 1), ('hungry', 1), ('feed', 1), ('bored', 1), ('amuse', 1), ('doubts', 1), ('enlist', 1), ('ranks', 1), ('enemies', 1), ('bear', 1), ('arms', 1), ('against', 1), ('failures', 1), ('being', 1), ('first', 1), ('convinced', 1), ('hate', 1), ('fashionable', 1), ('ordered', 1), ('measured', 1), ('ruled', 1), ('our', 1), ('musicpaper', 1), ('wished', 1), ('desired', 1), ('coveted', 1), ('free', 1), ('independent', 1), ('relying', 1), ('resources', 1), ('accountable', 1), ('tell', 1), ('moon', 1), ('shining', 1), ('show', 1), ('glint', 1), ('light', 1), ('broken', 1), ('glass', 1), ('idiot', 1), ('face', 1), ('crisis', 1), ('daytoday', 1), ('wears', 1), ('out', 1), ('role', 1), ('ask', 1), ('questions', 1), ('answer', 1), ('weather', 1), ('today', 1), ('choose', 1), ('whether', 1), ('drink', 1), ('hang', 1), ('awful', 1), ('insulting', 1), ('depressing', 1), ('banality', 1), ('tree', 1), ('dead', 1), ('sways', 1), ('wind', 1), ('others', 1), ('died', 1), ('part', 1), ('way', 1), ('since', 1), ('forthcoming', 1), ('let', 1), ('philosophical', 1), ('conversation', 1), ('everybody', 1), ('purpose', 1), ('suffering', 1), ('mysteries', 1), ('live', 1), ('observe', 1), ('deceptive', 1), ('obvious', 1), ('capital', 1), ('mistake', 1), ('theorize', 1), ('before', 1), ('data', 1), ('insensibly', 1), ('begins', 1), ('twist', 1), ('instead', 1), ('skillful', 1), ('workman', 1), ('very', 1), ('careful', 1), ('indeed', 1), ('as', 1), ('takes', 1), ('brainattic', 1), ('tools', 1), ('large', 1), ('assortment', 1), ('once', 1), ('convenient', 1), ('inconvenient', 1), ('same', 1), ('rebels', 1), ('stagnation', 1), ('problems', 1), ('abstruse', 1), ('cryptogram', 1), ('intricate', 1), ('analysis', 1), ('proper', 1), ('atmosphere', 1), ('dispense', 1), ('artificial', 1), ('stimulants', 1), ('abhor', 1), ('routine', 1), ('existence', 1), ('crave', 1), ('mental', 1), ('exaltation', 1), ('chosen', 1), ('particular', 1), ('profession', 1), ('rather', 1), ('created', 1), ('brain', 1), ('rest', 1), ('mere', 1), ('appendix', 1), ('some', 1), ('lunatics', 1), ('about', 1), ('without', 1), ('psychopath', 1), ('highfunctioning', 1), ('sociopath', 1), ('research', 1), ('point', 1), ('wish', 1), ('draw', 1), ('attention', 1), ('did', 1), ('remarked', 1), ('how', 1), ('often', 1), ('exciting', 1), ('yawn', 1), ('seldom', 1), ('heard', 1), ('mention', 1), ('under', 1), ('other', 1), ('name', 1), ('eyes', 1), ('eclipses', 1), ('predominates', 1), ('whole', 1), ('sex', 1), ('emotion', 1), ('akin', 1), ('emotions', 1), ('particularly', 1), ('were', 1), ('abhorrent', 1), ('cold', 1), ('precise', 1), ('admirably', 1), ('balanced', 1), ('take', 1), ('reasoning', 1), ('observing', 1), ('machine', 1), ('seen', 1), ('yet', 1), ('late', 1), ('dubious', 1), ('questionable', 1), ('memory', 1)]\n"
          ],
          "name": "stdout"
        },
        {
          "output_type": "display_data",
          "data": {
            "image/png": "[encoded data removed]",
            "text/plain": [
              "<matplotlib.figure.Figure at 0x7f2eebfe2b00>"
            ]
          },
          "metadata": {
            "tags": []
          }
        }
      ]
    },
    {
      "metadata": {
        "id": "9LnOHCX7u4zK"
      },
      "cell_type": "markdown",
      "source": [
        "## ## Sorted frequency plot for Lemmatized  words after removing stopwords"
      ]
    },
    {
      "metadata": {
        "id": "sgsXQxJztxbb",
        "colab": {
          "base_uri": "https://localhost:8080/",
          "height": 435
        },
        "outputId": "1811ca49-4606-4e60-8af2-ff8e102a1872"
      },
      "cell_type": "code",
      "source": [
        "li_lem_words = df_all_words['lem'].tolist()\n",
        "di_freq2 = nltk.FreqDist(li_lem_words)\n",
        "li_freq_sorted2 = sorted(di_freq2.items(), key=lambda x: x[1], reverse=True)  # sorted list\n",
        "print(li_freq_sorted2)\n",
        "    \n",
        "di_freq2.plot(30, cumulative=False)"
      ],
      "execution_count": null,
      "outputs": [
        {
          "output_type": "stream",
          "text": [
            "[('always', 10), ('life', 6), ('nothing', 6), ('fact', 5), ('give', 5), ('man', 5), ('world', 5), ('come', 4), ('happiness', 4), ('impossible', 4), ('say', 4), ('theory', 4), ('woman', 4), ('work', 4), ('certain', 3), ('curious', 3), ('felt', 3), ('fit', 3), ('holmes', 3), ('however', 3), ('make', 3), ('never', 3), ('order', 3), ('see', 3), ('sherlock', 3), ('still', 3), ('think', 3), ('truth', 3), ('adler', 2), ('artist', 2), ('attention', 2), ('best', 2), ('die', 2), ('dog', 2), ('dull', 2), ('eliminate', 2), ('emotion', 2), ('fine', 2), ('friend', 2), ('good', 2), ('help', 2), ('ignore', 2), ('imagination', 2), ('improbable', 2), ('incident', 2), ('irene', 2), ('know', 2), ('little', 2), ('living', 2), ('lose', 2), ('love', 2), ('mind', 2), ('nice', 2), ('nighttime', 2), ('observe', 2), ('perfect', 2), ('person', 2), ('quite', 2), ('really', 2), ('reason', 2), ('remains', 2), ('storm', 2), ('suit', 2), ('take', 2), ('tea', 2), ('thing', 2), ('time', 2), ('watson', 2), ('wish', 2), ('abhor', 1), ('abhorrent', 1), ('able', 1), ('abstruse', 1), ('accountable', 1), ('acutely', 1), ('admirable', 1), ('admirably', 1), ('adventure', 1), ('advice', 1), ('akin', 1), ('alive', 1), ('altogether', 1), ('amuse', 1), ('analysis', 1), ('answer', 1), ('anybody', 1), ('appearance', 1), ('appendix', 1), ('appreciate', 1), ('arm', 1), ('artificial', 1), ('aside', 1), ('ask', 1), ('assortment', 1), ('atmosphere', 1), ('attain', 1), ('awful', 1), ('bad', 1), ('balance', 1), ('banality', 1), ('bask', 1), ('bear', 1), ('beautiful', 1), ('begin', 1), ('bleed', 1), ('bless', 1), ('book', 1), ('bore', 1), ('brain', 1), ('brainattic', 1), ('broken', 1), ('capital', 1), ('careful', 1), ('certainly', 1), ('charm', 1), ('choose', 1), ('chosen', 1), ('clever', 1), ('close', 1), ('cold', 1), ('comparison', 1), ('conceive', 1), ('conquer', 1), ('contain', 1), ('continue', 1), ('convenient', 1), ('conversation', 1), ('convince', 1), ('cordial', 1), ('covet', 1), ('crave', 1), ('create', 1), ('crisis', 1), ('cryptogram', 1), ('data', 1), ('daytoday', 1), ('dead', 1), ('deceptive', 1), ('deepest', 1), ('depress', 1), ('desire', 1), ('despairingly', 1), ('disappointed', 1), ('dish', 1), ('dispense', 1), ('divide', 1), ('doubt', 1), ('dragon', 1), ('draw', 1), ('drink', 1), ('dubious', 1), ('easily', 1), ('eclipse', 1), ('enemy', 1), ('enjoyment', 1), ('enlist', 1), ('everybody', 1), ('everything', 1), ('exaltation', 1), ('excite', 1), ('exercise', 1), ('existence', 1), ('expect', 1), ('experience', 1), ('explain', 1), ('explanation', 1), ('eye', 1), ('face', 1), ('failure', 1), ('fairy', 1), ('fall', 1), ('fashionable', 1), ('fear', 1), ('feed', 1), ('fight', 1), ('first', 1), ('forthcoming', 1), ('free', 1), ('fresh', 1), ('full', 1), ('gallant', 1), ('gate', 1), ('glass', 1), ('glint', 1), ('goodlooking', 1), ('grand', 1), ('grief', 1), ('guard', 1), ('hang', 1), ('happen', 1), ('hard', 1), ('hate', 1), ('hazardous', 1), ('heard', 1), ('heart', 1), ('hidden', 1), ('highfunctioning', 1), ('hope', 1), ('human', 1), ('hungry', 1), ('idiot', 1), ('inconvenient', 1), ('indeed', 1), ('independent', 1), ('insensibly', 1), ('instead', 1), ('instinct', 1), ('insult', 1), ('intricate', 1), ('large', 1), ('late', 1), ('let', 1), ('light', 1), ('likely', 1), ('live', 1), ('look', 1), ('lunatic', 1), ('machine', 1), ('marvelous', 1), ('master', 1), ('meant', 1), ('measure', 1), ('memory', 1), ('men', 1), ('mental', 1), ('mention', 1), ('mere', 1), ('miserable', 1), ('misery', 1), ('mistake', 1), ('moment', 1), ('moon', 1), ('moral', 1), ('morrel', 1), ('much', 1), ('musicpaper', 1), ('mystery', 1), ('name', 1), ('next', 1), ('obvious', 1), ('often', 1), ('open', 1), ('others', 1), ('painful', 1), ('palace', 1), ('part', 1), ('particular', 1), ('particularly', 1), ('peculiarity', 1), ('people', 1), ('philosophical', 1), ('planning', 1), ('point', 1), ('poirot', 1), ('possible', 1), ('precise', 1), ('predominates', 1), ('problem', 1), ('profession', 1), ('proper', 1), ('psychopath', 1), ('purpose', 1), ('quarrel', 1), ('question', 1), ('questionable', 1), ('quiet', 1), ('rack', 1), ('rank', 1), ('rather', 1), ('ready', 1), ('rebel', 1), ('rein', 1), ('rely', 1), ('remain', 1), ('remark', 1), ('research', 1), ('resource', 1), ('rest', 1), ('rock', 1), ('role', 1), ('routine', 1), ('rule', 1), ('seek', 1), ('seeker', 1), ('seldom', 1), ('servant', 1), ('sex', 1), ('shatter', 1), ('sheep', 1), ('shin', 1), ('show', 1), ('significant', 1), ('simplest', 1), ('skillful', 1), ('sociopath', 1), ('sometimes', 1), ('sorrow', 1), ('spite', 1), ('stagnation', 1), ('stand', 1), ('state', 1), ('stimulant', 1), ('suffer', 1), ('sunlight', 1), ('supreme', 1), ('sway', 1), ('tale', 1), ('tell', 1), ('temper', 1), ('theorize', 1), ('therefore', 1), ('throw', 1), ('today', 1), ('tool', 1), ('touch', 1), ('tree', 1), ('try', 1), ('twist', 1), ('ugly', 1), ('undo', 1), ('united', 1), ('vengeance', 1), ('wait', 1), ('way', 1), ('wear', 1), ('weather', 1), ('whole', 1), ('wildly', 1), ('wind', 1), ('wisdom', 1), ('word', 1), ('workman', 1), ('wound', 1), ('yawn', 1), ('yet', 1), ('young', 1)]\n"
          ],
          "name": "stdout"
        },
        {
          "output_type": "display_data",
          "data": {
            "image/png": "[encoded data removed]",
            "text/plain": [
              "<matplotlib.figure.Figure at 0x7f2eec010cc0>"
            ]
          },
          "metadata": {
            "tags": []
          }
        }
      ]
    }
  ]
}